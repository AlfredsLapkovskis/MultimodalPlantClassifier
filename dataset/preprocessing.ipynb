{
 "cells": [
  {
   "cell_type": "code",
   "execution_count": 1,
   "metadata": {},
   "outputs": [],
   "source": [
    "import numpy as np\n",
    "import cvxpy as cp\n",
    "from itertools import chain\n",
    "import os\n",
    "import sys\n",
    "import matplotlib.pyplot as plt\n",
    "import tensorflow as tf\n",
    "\n",
    "root = os.path.abspath(\"..\")\n",
    "sys.path.append(root)\n",
    "\n",
    "from config import Config\n",
    "from common.constants import IMAGE_SHAPE_WITHOUT_CHANNELS, MODALITY_SET\n",
    "from plant_clef_meta import *"
   ]
  },
  {
   "cell_type": "code",
   "execution_count": 2,
   "metadata": {},
   "outputs": [],
   "source": [
    "CONFIG = Config(os.path.join(root, \"config.json\"))\n",
    "ORGANS = MODALITY_SET"
   ]
  },
  {
   "cell_type": "markdown",
   "metadata": {},
   "source": [
    "# Load and cache metadata"
   ]
  },
  {
   "cell_type": "code",
   "execution_count": 3,
   "metadata": {},
   "outputs": [
    {
     "data": {
      "text/plain": [
       "67812"
      ]
     },
     "execution_count": 3,
     "metadata": {},
     "output_type": "execute_result"
    }
   ],
   "source": [
    "meta = PlantClefImage.load(CONFIG, from_cache=True)\n",
    "meta = [img for img in meta if img.content in ORGANS]\n",
    "\n",
    "PlantClefImage.save(CONFIG, meta, pretty=True)\n",
    "\n",
    "len(meta)"
   ]
  },
  {
   "cell_type": "markdown",
   "metadata": {},
   "source": [
    "# Collect observations per class\n",
    "\n",
    "Collect observations (individual plant specimens) in the form of dictionaries with keys representing plant organs and values – arrays with corresponding organ images of a specific observation. Group them by classes using a dictionary with keys – classes and values – arrays with observations."
   ]
  },
  {
   "cell_type": "code",
   "execution_count": 4,
   "metadata": {},
   "outputs": [
    {
     "data": {
      "text/plain": [
       "999"
      ]
     },
     "execution_count": 4,
     "metadata": {},
     "output_type": "execute_result"
    }
   ],
   "source": [
    "class_observations = dict()\n",
    "\n",
    "for image in meta:\n",
    "    if image.class_id not in class_observations:\n",
    "        class_observations[image.class_id] = {}\n",
    "    \n",
    "    observations = class_observations[image.class_id]\n",
    "\n",
    "    if image.observation_id not in observations:\n",
    "        observations[image.observation_id] = {o: [] for o in ORGANS}\n",
    "\n",
    "    observation = observations[image.observation_id]\n",
    "    observation[image.content].append(image)\n",
    "\n",
    "len(class_observations)"
   ]
  },
  {
   "cell_type": "markdown",
   "metadata": {},
   "source": [
    "# Filter unsplitable organ images and classes\n",
    "\n",
    "Remove specific organ images (e.g., images of a flower) from classes if their total count is less than 3 (i.e., the number of data splits). Then, remove such observations that lost all their images due to the this procedure. Finally, remove all classes that have less than 3 observations, as we will split data observation-wise."
   ]
  },
  {
   "cell_type": "code",
   "execution_count": 5,
   "metadata": {},
   "outputs": [
    {
     "data": {
      "text/plain": [
       "979"
      ]
     },
     "execution_count": 5,
     "metadata": {},
     "output_type": "execute_result"
    }
   ],
   "source": [
    "for cls, observations in class_observations.items():\n",
    "    updated_observations = {}\n",
    "\n",
    "    total_organ_counts = {\n",
    "        organ: sum(1 if observation[organ] else 0 for observation in observations.values())\n",
    "        for organ in ORGANS\n",
    "    }\n",
    "\n",
    "    for organ, count in total_organ_counts.items():\n",
    "        if count < 3:\n",
    "            for id, observation in observations.items():\n",
    "                updated_observation = updated_observations[id] if id in updated_observations else observation.copy()\n",
    "                updated_observation[organ] = []\n",
    "                updated_observations[id] = updated_observation\n",
    "\n",
    "    for id, updated_observation in updated_observations.items():\n",
    "        has_values = False\n",
    "        for values in updated_observation.values():\n",
    "            if len(values) > 0:\n",
    "                observations[id] = updated_observation\n",
    "                has_values = True\n",
    "                break\n",
    "        if not has_values:\n",
    "            observations.pop(id)\n",
    "\n",
    "class_observations = {cls: observations for cls, observations in class_observations.items() if len(observations) >= 3}\n",
    "\n",
    "len(class_observations)"
   ]
  },
  {
   "cell_type": "markdown",
   "metadata": {},
   "source": [
    "# Split the data\n",
    "\n",
    "To avoid potential bias, we want to split the data observation-wise, i.e., images of the same observation must occurr only in one of the data splits (train, validation or test). This makes splitting non-trivial, as each observation has a different number of each organ images, and we have two contradictory objectives: (1) we want to ensure a certain proportion (60%:20%:20%) of observations in each data split to maximize the diversity of data in each of them, and (2) we want to ensure a certain proportion of each plant organ images in each split (60%:20%:20%) because ultimately it is the data that we will use train, validate and evaluate our models, and we want splits with certain sizes. Finally, as we want our splits stratified, we need to satisfy these objectives for each class separately.\n",
    "\n",
    "So, we frame this as a constrained optimization problem that we solve for each class separately:\n",
    "\n",
    "##### $ \\textrm{minimize} \\sum_{s\\in S}(||\\mathbf{x}_s||_1 - \\lambda_sN)^2+\\sum_{o\\in O}\\sum_{s\\in S}(\\mathbf{c}_o^T\\mathbf{x}_s-\\lambda_s||\\mathbf{c}_o||_1)^2 $\n",
    "##### $ \\textrm{subject to } \\sum_{s\\in S} \\mathbf{x}_s=\\mathbf{1} $\n",
    "\n",
    "where: \\\n",
    "$N$ is the number of observations \\\n",
    "$S$ is a set of data splits \\\n",
    "$O$ is a set of organ types \\\n",
    "$c_o\\in\\mathbb{N}^N$ is a vector with counts of organ $o$ images for each observation \\\n",
    "$x_s\\in\\{0,1\\}^N$ is a decision vector for the split $s$ in which an element $1$ denote that a specific observation belongs to the split $s$ \\\n",
    "$\\lambda_s\\in [0, 1]$ is a proportion for the split $s$."
   ]
  },
  {
   "cell_type": "code",
   "execution_count": 6,
   "metadata": {},
   "outputs": [
    {
     "name": "stderr",
     "output_type": "stream",
     "text": [
      "/Users/alfredlapkovsky/Documents/Projects/THESIS/Code/venv/lib/python3.11/site-packages/cvxpy/problems/problem.py:1407: UserWarning: Solution may be inaccurate. Try another solver, adjusting the solver settings, or solve with verbose=True for more information.\n",
      "  warnings.warn(\n"
     ]
    }
   ],
   "source": [
    "train_fraction = 0.6\n",
    "valid_fraction = 0.2\n",
    "test_fraction = 0.2\n",
    "\n",
    "verbose = False\n",
    "\n",
    "train_class_organs = dict()\n",
    "valid_class_organs = dict()\n",
    "test_class_organs = dict()\n",
    "\n",
    "for cls, observations in class_observations.items():\n",
    "    organs = {o: [] for o in ORGANS}\n",
    "    observation_list = list(observations.values())\n",
    "\n",
    "    for organ in ORGANS:\n",
    "        for observation in observation_list:\n",
    "            count = len(observation[organ]) if organ in observation else 0\n",
    "            organs[organ].append(count)\n",
    "\n",
    "    organs = {k: np.expand_dims(v, axis=1) for k, v in organs.items()}\n",
    "    organ_counts = {k: sum(v) for k, v in organs.items()}\n",
    "\n",
    "    var_count = len(observation_list)\n",
    "\n",
    "    var_train = cp.Variable(var_count, boolean=True)\n",
    "    var_valid = cp.Variable(var_count, boolean=True)\n",
    "    var_test = cp.Variable(var_count, boolean=True)\n",
    "    \n",
    "    def build_objective(fraction, vars):\n",
    "        observation_objective = cp.square(cp.sum(vars) - fraction * var_count)\n",
    "        organ_objective = cp.sum([\n",
    "            cp.square(values.T @ vars - fraction * organ_counts[organ])\n",
    "            for organ, values in organs.items()\n",
    "        ])\n",
    "        return observation_objective + organ_objective\n",
    "    \n",
    "    objective = cp.Minimize(\n",
    "        build_objective(train_fraction, var_train)\n",
    "        + build_objective(valid_fraction, var_valid)\n",
    "        + build_objective(test_fraction, var_test)\n",
    "    )\n",
    "\n",
    "    constraints = [var_train + var_valid + var_test == 1]\n",
    "\n",
    "    problem = cp.Problem(objective, constraints)\n",
    "    problem.solve(\n",
    "        solver=cp.SCIP, \n",
    "        scip_params={'limits/time': 1},\n",
    "    )\n",
    "\n",
    "    val_train = np.rint(var_train.value).astype(np.uint8)\n",
    "    val_valid = np.rint(var_valid.value).astype(np.uint8)\n",
    "    val_test = np.rint(var_test.value).astype(np.uint8)\n",
    "\n",
    "    if verbose:\n",
    "        print(f\"CLASS {cls} splits[train:validation:test]\" + \"=\" * 20 + \"\\n\")\n",
    "        print(f\"Observations: {val_train.sum()}:{val_valid.sum()}:{val_test.sum()} | {val_train.sum() / var_count}:{val_valid.sum() / var_count}:{val_test.sum() / var_count}\")\n",
    "\n",
    "        for organ, values in organs.items():\n",
    "            count = organ_counts[organ]\n",
    "\n",
    "            train_organs = values.T @ val_train\n",
    "            valid_organs = values.T @ val_valid\n",
    "            test_organs = values.T @ val_test\n",
    "\n",
    "            print(f\"{organ}: {train_organs}:{valid_organs}:{test_organs} | {train_organs / count}:{valid_organs / count}:{test_organs / count}\")\n",
    "\n",
    "    def prepare_split(values):\n",
    "        split = {organ: [] for organ in ORGANS}\n",
    "\n",
    "        for idx in np.flatnonzero(values):\n",
    "            for organ in ORGANS:\n",
    "                split[organ].extend(observation_list[idx][organ])\n",
    "\n",
    "        return split\n",
    "    \n",
    "    train_class_organs[cls] = prepare_split(val_train)\n",
    "    valid_class_organs[cls] = prepare_split(val_valid)\n",
    "    test_class_organs[cls] = prepare_split(val_test)"
   ]
  },
  {
   "cell_type": "markdown",
   "metadata": {},
   "source": [
    "# Fix empty splits\n",
    "\n",
    "In some classes there may be a very small number of a specific organ images. In such case, some split could be unassigned images, so we need to manually fix it and give it an image from another split."
   ]
  },
  {
   "cell_type": "code",
   "execution_count": 7,
   "metadata": {},
   "outputs": [
    {
     "name": "stdout",
     "output_type": "stream",
     "text": [
      "CLASS 973: 1 fixes\n",
      "CLASS 9954: 1 fixes\n",
      "CLASS 4455: 1 fixes\n",
      "CLASS 8544: 1 fixes\n",
      "CLASS 1395: 1 fixes\n",
      "CLASS 30090: 1 fixes\n",
      "CLASS 8622: 1 fixes\n",
      "CLASS 8622: 1 fixes\n",
      "CLASS 2910: 1 fixes\n",
      "CLASS 6569: 1 fixes\n",
      "CLASS 1765: 1 fixes\n",
      "CLASS 1765: 1 fixes\n",
      "CLASS 30460: 1 fixes\n",
      "CLASS 1066: 1 fixes\n",
      "CLASS 622: 1 fixes\n",
      "CLASS 4039: 1 fixes\n",
      "CLASS 30163: 1 fixes\n",
      "CLASS 30163: 1 fixes\n",
      "CLASS 14930: 1 fixes\n",
      "CLASS 30378: 1 fixes\n",
      "CLASS 3987: 1 fixes\n",
      "CLASS 1966: 1 fixes\n",
      "CLASS 30089: 1 fixes\n",
      "CLASS 383: 1 fixes\n",
      "CLASS 3505: 1 fixes\n",
      "CLASS 576: 1 fixes\n",
      "CLASS 4262: 1 fixes\n",
      "CLASS 3831: 1 fixes\n",
      "CLASS 30008: 1 fixes\n",
      "CLASS 30315: 1 fixes\n",
      "CLASS 6376: 1 fixes\n",
      "CLASS 166: 1 fixes\n",
      "CLASS 1360: 1 fixes\n",
      "CLASS 459: 1 fixes\n",
      "CLASS 1939: 1 fixes\n",
      "CLASS 6302: 1 fixes\n",
      "CLASS 8532: 1 fixes\n",
      "CLASS 178: 1 fixes\n",
      "CLASS 5307: 1 fixes\n",
      "CLASS 59: 1 fixes\n",
      "CLASS 12: 1 fixes\n",
      "CLASS 2905: 1 fixes\n",
      "CLASS 2905: 1 fixes\n",
      "CLASS 1315: 1 fixes\n",
      "CLASS 30402: 1 fixes\n",
      "CLASS 3452: 1 fixes\n",
      "CLASS 671: 1 fixes\n",
      "CLASS 5834: 1 fixes\n",
      "CLASS 30018: 1 fixes\n",
      "CLASS 14807: 1 fixes\n",
      "CLASS 2674: 1 fixes\n",
      "CLASS 5448: 1 fixes\n",
      "CLASS 6343: 1 fixes\n",
      "CLASS 4026: 1 fixes\n",
      "CLASS 6170: 1 fixes\n",
      "CLASS 1234: 1 fixes\n",
      "CLASS 30193: 1 fixes\n",
      "CLASS 3826: 1 fixes\n",
      "CLASS 6345: 1 fixes\n",
      "CLASS 3131: 1 fixes\n",
      "CLASS 5603: 1 fixes\n",
      "CLASS 4094: 1 fixes\n",
      "CLASS 8621: 1 fixes\n",
      "CLASS 30016: 1 fixes\n",
      "CLASS 846: 1 fixes\n",
      "CLASS 29949: 1 fixes\n",
      "CLASS 4032: 1 fixes\n",
      "CLASS 4032: 1 fixes\n",
      "CLASS 3557: 1 fixes\n",
      "CLASS 4553: 1 fixes\n",
      "CLASS 416: 1 fixes\n",
      "CLASS 8598: 1 fixes\n",
      "CLASS 14893: 1 fixes\n",
      "CLASS 6089: 1 fixes\n",
      "CLASS 6546: 1 fixes\n",
      "CLASS 8699: 1 fixes\n",
      "CLASS 3549: 1 fixes\n",
      "CLASS 2213: 1 fixes\n",
      "CLASS 2756: 1 fixes\n",
      "CLASS 7466: 1 fixes\n",
      "CLASS 14621: 1 fixes\n",
      "CLASS 8534: 1 fixes\n",
      "CLASS 513: 1 fixes\n",
      "CLASS 8712: 1 fixes\n",
      "CLASS 1504: 1 fixes\n",
      "CLASS 2717: 1 fixes\n",
      "CLASS 3094: 1 fixes\n",
      "CLASS 3266: 1 fixes\n",
      "CLASS 3029: 1 fixes\n",
      "CLASS 5034: 1 fixes\n",
      "CLASS 3576: 1 fixes\n",
      "CLASS 29921: 1 fixes\n",
      "CLASS 5370: 1 fixes\n",
      "CLASS 2331: 1 fixes\n",
      "CLASS 3328: 1 fixes\n",
      "CLASS 6307: 1 fixes\n",
      "CLASS 5731: 1 fixes\n",
      "CLASS 6024: 1 fixes\n",
      "CLASS 6024: 1 fixes\n",
      "CLASS 30395: 1 fixes\n",
      "CLASS 8527: 1 fixes\n",
      "CLASS 1597: 1 fixes\n",
      "CLASS 3656: 1 fixes\n",
      "CLASS 14627: 1 fixes\n",
      "CLASS 30003: 1 fixes\n",
      "CLASS 112: 1 fixes\n",
      "CLASS 6553: 1 fixes\n",
      "CLASS 5496: 1 fixes\n",
      "CLASS 1400: 1 fixes\n",
      "CLASS 3451: 1 fixes\n",
      "CLASS 6371: 1 fixes\n",
      "CLASS 1633: 1 fixes\n",
      "CLASS 5098: 1 fixes\n",
      "CLASS 35078: 1 fixes\n",
      "CLASS 4460: 1 fixes\n",
      "CLASS 30318: 1 fixes\n",
      "CLASS 1653: 1 fixes\n",
      "CLASS 30302: 1 fixes\n",
      "CLASS 1803: 1 fixes\n",
      "CLASS 29938: 1 fixes\n",
      "CLASS 337: 1 fixes\n",
      "CLASS 1948: 1 fixes\n",
      "CLASS 6365: 1 fixes\n",
      "CLASS 2335: 1 fixes\n",
      "CLASS 993: 1 fixes\n",
      "CLASS 30299: 1 fixes\n",
      "CLASS 30078: 1 fixes\n",
      "CLASS 29981: 1 fixes\n",
      "CLASS 2629: 1 fixes\n",
      "CLASS 5311: 1 fixes\n",
      "CLASS 30143: 1 fixes\n",
      "CLASS 606: 1 fixes\n",
      "CLASS 29935: 1 fixes\n",
      "CLASS 4300: 1 fixes\n",
      "CLASS 1344: 1 fixes\n",
      "CLASS 5120: 1 fixes\n",
      "CLASS 3806: 1 fixes\n",
      "CLASS 14779: 1 fixes\n",
      "CLASS 1514: 1 fixes\n",
      "CLASS 2048: 1 fixes\n",
      "CLASS 30468: 1 fixes\n",
      "CLASS 4762: 1 fixes\n",
      "CLASS 30448: 1 fixes\n",
      "CLASS 14837: 1 fixes\n",
      "CLASS 30166: 1 fixes\n",
      "CLASS 3006: 1 fixes\n",
      "CLASS 756: 1 fixes\n",
      "CLASS 3456: 1 fixes\n"
     ]
    }
   ],
   "source": [
    "for cls in class_observations.keys():\n",
    "    for organ in ORGANS:\n",
    "        split_organs = [\n",
    "            train_class_organs[cls][organ],\n",
    "            valid_class_organs[cls][organ],\n",
    "            test_class_organs[cls][organ],\n",
    "        ]\n",
    "\n",
    "        def sort(organs):\n",
    "            return sorted(organs, key=lambda x: len(x), reverse=True)\n",
    "\n",
    "        split_organs = sort(split_organs)\n",
    "\n",
    "        fixes = 0\n",
    "\n",
    "        if len(split_organs[0]) == 0:\n",
    "            continue\n",
    "        if len(split_organs[1]) == 0:\n",
    "            random_idx = np.random.choice(range(len(split_organs[0])))\n",
    "            random_organ = split_organs[0].pop(random_idx)\n",
    "            split_organs[1].append(random_organ)\n",
    "            split_organs = sort(split_organs)\n",
    "            fixes += 1\n",
    "        if len(split_organs[2]) == 0:\n",
    "            random_idx = np.random.choice(range(len(split_organs[0])))\n",
    "            random_organ = split_organs[0].pop(random_idx)\n",
    "            split_organs[2].append(random_organ)\n",
    "            fixes += 1\n",
    "\n",
    "        if fixes > 0:\n",
    "            print(f\"CLASS {cls}: {fixes} fixes\")\n",
    "\n",
    "        counts = [len(x) for x in split_organs]\n",
    "        assert all(counts), f\"{counts=}\"\n",
    "\n",
    "        media_ids = set()\n",
    "        for organs in split_organs:\n",
    "            ids = set([o.media_id for o in organs])\n",
    "            assert len(ids.intersection(media_ids)) == 0\n",
    "            media_ids.update(ids)"
   ]
  },
  {
   "cell_type": "markdown",
   "metadata": {},
   "source": [
    "# Map labels to $[0, N]$\n",
    "\n",
    "Original labels are represented by impractical large numbers, so we map them to the interval [0, number of labels]."
   ]
  },
  {
   "cell_type": "code",
   "execution_count": 8,
   "metadata": {},
   "outputs": [
    {
     "data": {
      "text/plain": [
       "979"
      ]
     },
     "execution_count": 8,
     "metadata": {},
     "output_type": "execute_result"
    }
   ],
   "source": [
    "def get_class_distribution(meta, included_labels):\n",
    "    classes = {}\n",
    "\n",
    "    for img in meta:\n",
    "        cls = img.class_id\n",
    "        if cls in included_labels:\n",
    "            classes[cls] = (classes[cls] + 1) if cls in classes else 1\n",
    "    \n",
    "    return np.array(sorted(classes.items(), key=lambda i: i[1], reverse=True))\n",
    "\n",
    "class_dist = get_class_distribution(meta, set(class_observations.keys()))\n",
    "class_map = {c: i for i, c in enumerate(class_dist[:, 0])}\n",
    "\n",
    "mapped_train_class_organs = {class_map[cls]: organs for cls, organs in train_class_organs.items()}\n",
    "mapped_valid_class_organs = {class_map[cls]: organs for cls, organs in valid_class_organs.items()}\n",
    "mapped_test_class_organs = {class_map[cls]: organs for cls, organs in test_class_organs.items()}\n",
    "\n",
    "len(class_map)"
   ]
  },
  {
   "cell_type": "markdown",
   "metadata": {},
   "source": [
    "# Plot the resulted splits"
   ]
  },
  {
   "cell_type": "code",
   "execution_count": 19,
   "metadata": {},
   "outputs": [
    {
     "data": {
      "image/png": "[encoded data removed]",
      "text/plain": [
       "<Figure size 1600x1200 with 12 Axes>"
      ]
     },
     "metadata": {},
     "output_type": "display_data"
    }
   ],
   "source": [
    "fig, ax = plt.subplots(4, 3)\n",
    "\n",
    "fig.set_size_inches((16, 12))\n",
    "fig.tight_layout(pad=4)\n",
    "\n",
    "for organ_idx, organ in enumerate(ORGANS):\n",
    "    classes = range(len(class_map))\n",
    "\n",
    "    def plot(col, split_name, class_organs):\n",
    "        ax[organ_idx][col].bar(classes, [len(class_organs[cls][organ]) for cls in classes])\n",
    "        ax[organ_idx][col].set_xlabel(\"Class\", fontdict={\"weight\": \"semibold\"})\n",
    "        ax[organ_idx][col].set_ylabel(organ)\n",
    "        ax[organ_idx][col].set_title(split_name, fontdict={\"weight\": \"bold\", \"size\": 14})\n",
    "        ax[organ_idx][col].set_xlim([0, len(classes) - 1])\n",
    "\n",
    "    plot(0, \"Train\", mapped_train_class_organs)\n",
    "    plot(1, \"Validation\", mapped_valid_class_organs)\n",
    "    plot(2, \"Test\", mapped_test_class_organs)\n",
    "\n",
    "def save_plot(name):\n",
    "    if not os.path.exists(\"images\"):\n",
    "        os.mkdir(\"images\")\n",
    "    plt.savefig(os.path.join(\"images\", name))\n",
    "\n",
    "save_plot(\"splits.pdf\")"
   ]
  },
  {
   "cell_type": "markdown",
   "metadata": {},
   "source": [
    "# Count split sizes"
   ]
  },
  {
   "cell_type": "code",
   "execution_count": 10,
   "metadata": {},
   "outputs": [
    {
     "name": "stdout",
     "output_type": "stream",
     "text": [
      "Observations: train 16737 (0.592145763311516), validation 5788 (0.20477622501326728), test 5740 (0.2030780116752167)\n",
      "Stem: train 3196 (0.590539541759054), validation 1119 (0.20676274944567627), test 1097 (0.20269770879526977)\n",
      "Flower: train 21859 (0.6009347079037801), validation 7273 (0.1999450171821306), test 7243 (0.19912027491408935)\n",
      "Leaf: train 9357 (0.5984267075978511), validation 3172 (0.20286518291123048), test 3107 (0.19870810949091838)\n",
      "Fruit: train 5096 (0.5996705107084019), validation 1678 (0.19745822546481526), test 1724 (0.20287126382678278)\n"
     ]
    }
   ],
   "source": [
    "def count_entities(class_organs):\n",
    "    observation_ids = set()\n",
    "\n",
    "    for organs_dict in class_organs.values():\n",
    "        for organs in organs_dict.values():\n",
    "            for organ in organs:\n",
    "                observation_ids.add(organ.observation_id)\n",
    "\n",
    "    return {\n",
    "        \"Observations\": len(observation_ids),\n",
    "        **{\n",
    "            o: sum(len(organs[o]) for organs in class_organs.values())\n",
    "            for o in ORGANS\n",
    "        }\n",
    "    }\n",
    "\n",
    "train_counts = count_entities(mapped_train_class_organs)\n",
    "valid_counts = count_entities(mapped_valid_class_organs)\n",
    "test_counts = count_entities(mapped_test_class_organs)\n",
    "\n",
    "for key in train_counts.keys():\n",
    "    train_count =  train_counts[key]\n",
    "    valid_count = valid_counts[key]\n",
    "    test_count = test_counts[key]\n",
    "    total_count = train_count + valid_count + test_count\n",
    "\n",
    "    print(f\"{key}: train {train_count} ({train_count / total_count}), validation {valid_count} ({valid_count / total_count}), test {test_count} ({test_count / total_count})\")"
   ]
  },
  {
   "cell_type": "markdown",
   "metadata": {},
   "source": [
    "# Save unimodal datasets\n",
    "\n",
    "Save shuffled data splits in TFRecord format for each modality to use for training unimodal models"
   ]
  },
  {
   "cell_type": "code",
   "execution_count": 11,
   "metadata": {},
   "outputs": [
    {
     "name": "stdout",
     "output_type": "stream",
     "text": [
      "[Stem, train] Finished 21/3196"
     ]
    },
    {
     "name": "stderr",
     "output_type": "stream",
     "text": [
      "2024-10-19 13:24:32.292722: I metal_plugin/src/device/metal_device.cc:1154] Metal device set to: Apple M2 Pro\n",
      "2024-10-19 13:24:32.292744: I metal_plugin/src/device/metal_device.cc:296] systemMemory: 16.00 GB\n",
      "2024-10-19 13:24:32.292750: I metal_plugin/src/device/metal_device.cc:313] maxCacheSize: 5.33 GB\n",
      "2024-10-19 13:24:32.292780: I tensorflow/core/common_runtime/pluggable_device/pluggable_device_factory.cc:306] Could not identify NUMA node of platform GPU ID 0, defaulting to 0. Your kernel may not have been built with NUMA support.\n",
      "2024-10-19 13:24:32.292794: I tensorflow/core/common_runtime/pluggable_device/pluggable_device_factory.cc:272] Created TensorFlow device (/job:localhost/replica:0/task:0/device:GPU:0 with 0 MB memory) -> physical PluggableDevice (device: 0, name: METAL, pci bus id: <undefined>)\n"
     ]
    },
    {
     "name": "stdout",
     "output_type": "stream",
     "text": [
      "[Stem, train] Finished 3196/3196\n",
      "[Stem, validation] Finished 1119/1119\n",
      "[Stem, test] Finished 1097/1097\n",
      "[Flower, train] Finished 21859/21859\n",
      "[Flower, validation] Finished 7273/7273\n",
      "[Flower, test] Finished 7243/7243\n",
      "[Leaf, train] Finished 9357/9357\n",
      "[Leaf, validation] Finished 3172/3172\n",
      "[Leaf, test] Finished 3107/3107\n",
      "[Fruit, train] Finished 5096/5096\n",
      "[Fruit, validation] Finished 1678/1678\n",
      "[Fruit, test] Finished 1724/1724\n"
     ]
    }
   ],
   "source": [
    "def save_unimodal_data(organ, split_class_organs, split_name):\n",
    "    instances = list(chain(*[organs[organ] for organs in split_class_organs.values()]))\n",
    "    np.random.shuffle(instances)\n",
    "\n",
    "    file_path = CONFIG.get_unimodal_file_path(split_name, organ)\n",
    "    os.makedirs(os.path.dirname(file_path), exist_ok=True)\n",
    "\n",
    "    with tf.io.TFRecordWriter(file_path) as writer:\n",
    "        for i, instance in enumerate(instances):\n",
    "            path = instance.get_image_file_path(CONFIG)\n",
    "\n",
    "            image = tf.io.read_file(path)\n",
    "            image = tf.image.decode_image(image, channels=3)\n",
    "            image = tf.image.resize(image, IMAGE_SHAPE_WITHOUT_CHANNELS)\n",
    "            image = tf.cast(image, dtype=tf.uint8)\n",
    "            image = tf.io.encode_jpeg(image)\n",
    "            image = image.numpy()\n",
    "            \n",
    "            label = class_map[instance.class_id]\n",
    "\n",
    "            writer.write(tf.train.Example(\n",
    "                features=tf.train.Features(\n",
    "                    feature={\n",
    "                        \"image\": tf.train.Feature(bytes_list=tf.train.BytesList(value=[image])),\n",
    "                        \"label\": tf.train.Feature(int64_list=tf.train.Int64List(value=[label])),\n",
    "                    },\n",
    "                )\n",
    "            ).SerializeToString())\n",
    "\n",
    "            print(f\"\\r[{organ}, {split_name}] Finished {i + 1}/{len(instances)}\", end=\"\")\n",
    "    print()\n",
    "\n",
    "for organ in ORGANS:\n",
    "    save_unimodal_data(organ, mapped_train_class_organs, \"train\")\n",
    "    save_unimodal_data(organ, mapped_valid_class_organs, \"validation\")\n",
    "    save_unimodal_data(organ, mapped_test_class_organs, \"test\")\n",
    "        "
   ]
  },
  {
   "cell_type": "markdown",
   "metadata": {},
   "source": [
    "# Save multimodal datasets\n",
    "\n",
    "Generate random combinations of images of different plant organs and save those as TFRecord datasets for each data split."
   ]
  },
  {
   "cell_type": "code",
   "execution_count": 12,
   "metadata": {},
   "outputs": [
    {
     "name": "stdout",
     "output_type": "stream",
     "text": [
      "[train] Finished 25661/25661\n",
      "[validation] Finished 8552/8552\n",
      "[test] Finished 8500/8500\n"
     ]
    }
   ],
   "source": [
    "def generate_multimodal_combinations(split_class_organs, split_name):\n",
    "    file_path = CONFIG.get_multimodal_file_path(split_name)\n",
    "    os.makedirs(os.path.dirname(file_path), exist_ok=True)\n",
    "\n",
    "    combinations = []\n",
    "\n",
    "    for label, class_organs in split_class_organs.items():\n",
    "        organ_values = [(o, v) for o, v in class_organs.items() if len(v) > 0]\n",
    "        sorted_organ_values = sorted(organ_values, key=lambda x: len(x[1]), reverse=True)\n",
    "        assert sorted_organ_values\n",
    "\n",
    "        n_combinations = len(sorted_organ_values[0][1])\n",
    "        assert n_combinations > 0\n",
    "\n",
    "        organ_names = [x[0] for x in sorted_organ_values]\n",
    "        organ_values = [x[1] for x in sorted_organ_values]\n",
    "\n",
    "        organ_values = [np.random.permutation(values) for values in organ_values]\n",
    "        organ_values = [np.resize(values, n_combinations) for values in organ_values]\n",
    "        organ_values = [iter(values) for values in organ_values]\n",
    "\n",
    "        organ_names_values = dict(zip(organ_names, organ_values))\n",
    "\n",
    "        for _ in range(n_combinations):\n",
    "            combination = {\n",
    "                \"label\": label,\n",
    "            }\n",
    "\n",
    "            for organ in ORGANS:\n",
    "                if organ in organ_names_values:\n",
    "                    value = next(organ_names_values[organ])\n",
    "                    combination[organ] = value\n",
    "\n",
    "            combinations.append(combination)\n",
    "\n",
    "    with tf.io.TFRecordWriter(file_path) as writer:\n",
    "        np.random.shuffle(combinations)\n",
    "        \n",
    "        for i, combination in enumerate(combinations):\n",
    "            label = combination[\"label\"]\n",
    "            features = {\n",
    "                \"label\": tf.train.Feature(int64_list=tf.train.Int64List(value=[label])),\n",
    "            }\n",
    "\n",
    "            for organ in ORGANS:\n",
    "                if organ in combination:\n",
    "                    value = combination[organ]\n",
    "\n",
    "                    path = value.get_image_file_path(CONFIG)\n",
    "            \n",
    "                    image = tf.io.read_file(path)\n",
    "                    image = tf.image.decode_image(image, channels=3)\n",
    "                    image = tf.image.resize(image, IMAGE_SHAPE_WITHOUT_CHANNELS)\n",
    "                    image = tf.cast(image, dtype=tf.uint8)\n",
    "                    image = tf.io.encode_jpeg(image)\n",
    "                    image = image.numpy()\n",
    "\n",
    "                    features[organ] = tf.train.Feature(bytes_list=tf.train.BytesList(value=[image]))\n",
    "            \n",
    "            writer.write(tf.train.Example(\n",
    "                features=tf.train.Features(\n",
    "                    feature=features,\n",
    "                )\n",
    "            ).SerializeToString())\n",
    "\n",
    "            print(f\"\\r[{split_name}] Finished {i + 1}/{len(combinations)}\", end=\"\")\n",
    "        print()\n",
    "\n",
    "generate_multimodal_combinations(mapped_train_class_organs, \"train\")\n",
    "generate_multimodal_combinations(mapped_valid_class_organs, \"validation\")\n",
    "generate_multimodal_combinations(mapped_test_class_organs, \"test\")"
   ]
  },
  {
   "cell_type": "markdown",
   "metadata": {},
   "source": [
    "# Save unimodal labels\n",
    "\n",
    "Additionally, save labels of unimodal datasets separately, for convenience."
   ]
  },
  {
   "cell_type": "code",
   "execution_count": 13,
   "metadata": {},
   "outputs": [],
   "source": [
    "def save_unimodal_labels(organ, split_name):\n",
    "    def parse(proto):\n",
    "        return tf.io.parse_single_example(proto, {\n",
    "            \"label\": tf.io.FixedLenFeature([], tf.int64)\n",
    "        })[\"label\"]\n",
    "\n",
    "    src_path = CONFIG.get_unimodal_file_path(split_name, organ)\n",
    "    dataset = tf.data.TFRecordDataset(src_path).map(parse, num_parallel_calls=tf.data.AUTOTUNE)\n",
    "\n",
    "    dst_path = CONFIG.get_unimodal_labels_file_path(split_name, organ)\n",
    "    os.makedirs(os.path.dirname(dst_path), exist_ok=True)\n",
    "\n",
    "    with open(dst_path, \"w\") as f:\n",
    "        for label in dataset:\n",
    "            f.write(f\"{label}\\n\")\n",
    "\n",
    "for organ in ORGANS:\n",
    "    save_unimodal_labels(organ, \"train\")\n",
    "    save_unimodal_labels(organ, \"validation\")\n",
    "    save_unimodal_labels(organ, \"test\")"
   ]
  },
  {
   "cell_type": "markdown",
   "metadata": {},
   "source": [
    "# Save multimodal labels\n",
    "\n",
    "Additionally, save labels of multimodal datasets separately, for convenience."
   ]
  },
  {
   "cell_type": "code",
   "execution_count": 14,
   "metadata": {},
   "outputs": [],
   "source": [
    "def save_multimodal_labels(split_name):\n",
    "    def parse(proto):\n",
    "        return tf.io.parse_single_example(proto, {\n",
    "            \"label\": tf.io.FixedLenFeature([], tf.int64)\n",
    "        })[\"label\"]\n",
    "    \n",
    "    src_path = CONFIG.get_multimodal_file_path(split_name)\n",
    "    dataset = tf.data.TFRecordDataset(src_path).map(parse, num_parallel_calls=tf.data.AUTOTUNE)\n",
    "\n",
    "    dst_path = CONFIG.get_multimodal_labels_file_path(split_name)\n",
    "    os.makedirs(os.path.dirname(dst_path), exist_ok=True)\n",
    "\n",
    "    with open(dst_path, \"w\") as f:\n",
    "        for label in dataset:\n",
    "            f.write(f\"{label}\\n\")\n",
    "\n",
    "save_multimodal_labels(\"train\")\n",
    "save_multimodal_labels(\"validation\")\n",
    "save_multimodal_labels(\"test\")"
   ]
  }
 ],
 "metadata": {
  "kernelspec": {
   "display_name": "venv",
   "language": "python",
   "name": "python3"
  },
  "language_info": {
   "codemirror_mode": {
    "name": "ipython",
    "version": 3
   },
   "file_extension": ".py",
   "mimetype": "text/x-python",
   "name": "python",
   "nbconvert_exporter": "python",
   "pygments_lexer": "ipython3",
   "version": "3.11.5"
  }
 },
 "nbformat": 4,
 "nbformat_minor": 2
}
